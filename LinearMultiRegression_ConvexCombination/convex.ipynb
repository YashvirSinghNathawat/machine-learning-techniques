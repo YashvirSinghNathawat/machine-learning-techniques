{
 "cells": [
  {
   "cell_type": "code",
   "execution_count": 1,
   "metadata": {},
   "outputs": [],
   "source": [
    "import numpy as np\n",
    "import math"
   ]
  },
  {
   "cell_type": "code",
   "execution_count": 2,
   "metadata": {},
   "outputs": [],
   "source": [
    "# Load DataSet\n",
    "X_seen=np.load('X_seen.npy',encoding='bytes',allow_pickle=True) \t# (40 x N_i x D): 40 feature matrices. X_seen[i] is the N_i x D feature matrix of seen class i\n",
    "\n",
    "Xtest=np.load('Xtest.npy')\t# (6180, 4096): feature matrix of the test data.\n",
    "\n",
    "Ytest=np.load('Ytest.npy',)\t # (6180, 1): ground truth labels of the test data\n",
    "\n",
    "class_attributes_seen=np.load('class_attributes_seen.npy')\t# (40, 85): 40x85 matrix with each row being the 85-dimensional class attribute vector of a seen class.\n",
    "\n",
    "class_attributes_unseen=np.load('class_attributes_unseen.npy')\t# (10, 85): 10x85 matrix with each row being the 85-dimensional class attribute vector of an  unseen class."
   ]
  },
  {
   "cell_type": "code",
   "execution_count": 3,
   "metadata": {},
   "outputs": [],
   "source": [
    "# Calculate Mean of each class\n",
    "X_class_mean = []\n",
    "\n",
    "for i in range(40):\n",
    "    class_mean = np.mean(X_seen[i], axis=0)\n",
    "    X_class_mean.append(class_mean)\n"
   ]
  },
  {
   "cell_type": "code",
   "execution_count": 4,
   "metadata": {},
   "outputs": [],
   "source": [
    "# Compute the similarity (dot product based) of each unseen class with each of the seen classes.\n",
    "similarity = []   # 10 *40\n",
    "\n",
    "for i in range(10):\n",
    "    similarity_i = []\n",
    "    for j in range(40):\n",
    "        similarity_i.append(np.dot(class_attributes_unseen[i],class_attributes_seen[j]))\n",
    "    similarity.append(similarity_i)"
   ]
  },
  {
   "cell_type": "code",
   "execution_count": 5,
   "metadata": {},
   "outputs": [],
   "source": [
    "# Normalize the similarity vector (to that it sums to 1, since we are using a convex combination).\n",
    "normalized_similarity_vector = []\n",
    "for i in range(10):\n",
    "    sum = 0\n",
    "    normalized_similarity_vector_i = []\n",
    "    for j in range(40):\n",
    "        sum += similarity[i][j]\n",
    "    for j in range(40):\n",
    "        normalized_similarity_vector_i.append(similarity[i][j]/sum)\n",
    "    normalized_similarity_vector.append(normalized_similarity_vector_i)"
   ]
  },
  {
   "cell_type": "code",
   "execution_count": 6,
   "metadata": {},
   "outputs": [],
   "source": [
    "# Compute the mean of each unseen class using a convex combination of means of seen classes.\n",
    "mean_unseen_class = []\n",
    "for i in range(10):\n",
    "    normalized_similarity_vector_numpy = np.array(normalized_similarity_vector[i]).reshape(1, -1)\n",
    "    X_class_mean_numpy = np.array(X_class_mean)\n",
    "    mean = np.dot(normalized_similarity_vector_numpy,X_class_mean_numpy)\n",
    "    mean_unseen_class.append(mean.reshape(-1))"
   ]
  },
  {
   "cell_type": "code",
   "execution_count": 7,
   "metadata": {},
   "outputs": [],
   "source": [
    "# Apply the model to predict labels on unseen class test inputs. Xtest\n",
    "\n",
    "predicted_labels = []\n",
    "for i in range(len(Xtest)):\n",
    "    distances = []\n",
    "    for j in range(10):\n",
    "        distance = np.linalg.norm(Xtest[i]-mean_unseen_class[j])\n",
    "        distances.append(distance)\n",
    "    predict_value=np.argmin(distances)+1\n",
    "    predicted_labels.append(predict_value)"
   ]
  },
  {
   "cell_type": "code",
   "execution_count": 8,
   "metadata": {},
   "outputs": [
    {
     "name": "stdout",
     "output_type": "stream",
     "text": [
      "Accuracy : 46.89320388349515\n"
     ]
    }
   ],
   "source": [
    "# Compute classification accuracies.\n",
    "correct_prediction = 0\n",
    "total_prediction = len(Ytest)\n",
    "for i in range(total_prediction):\n",
    "    if(predicted_labels[i]==Ytest[i]):\n",
    "        correct_prediction+=1\n",
    "\n",
    "accuracy = correct_prediction/total_prediction*100\n",
    "print(\"Accuracy : {}\".format(accuracy))"
   ]
  },
  {
   "cell_type": "code",
   "execution_count": null,
   "metadata": {},
   "outputs": [],
   "source": []
  }
 ],
 "metadata": {
  "kernelspec": {
   "display_name": "Python 3 (ipykernel)",
   "language": "python",
   "name": "python3"
  },
  "language_info": {
   "codemirror_mode": {
    "name": "ipython",
    "version": 3
   },
   "file_extension": ".py",
   "mimetype": "text/x-python",
   "name": "python",
   "nbconvert_exporter": "python",
   "pygments_lexer": "ipython3",
   "version": "3.11.7"
  },
  "vscode": {
   "interpreter": {
    "hash": "e956c49ae0caa224b5fdd754cbc353d7e61c6c61f7329ee680c7f7b4f1b71a8e"
   }
  }
 },
 "nbformat": 4,
 "nbformat_minor": 4
}
