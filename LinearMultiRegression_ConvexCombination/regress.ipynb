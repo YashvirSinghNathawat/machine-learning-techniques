{
 "cells": [
  {
   "cell_type": "code",
   "execution_count": 1,
   "metadata": {},
   "outputs": [],
   "source": [
    "import numpy as np\n",
    "import os"
   ]
  },
  {
   "cell_type": "code",
   "execution_count": 2,
   "metadata": {},
   "outputs": [],
   "source": [
    "# Load DataSet\n",
    "X_seen=np.load('X_seen.npy',encoding='bytes',allow_pickle=True) \t# (40 x N_i x D): 40 feature matrices. X_seen[i] is the N_i x D feature matrix of seen class i\n",
    "\n",
    "Xtest=np.load('Xtest.npy')\t# (6180, 4096): feature matrix of the test data.\n",
    "\n",
    "Ytest=np.load('Ytest.npy',)\t # (6180, 1): ground truth labels of the test data\n",
    "\n",
    "class_attributes_seen=np.load('class_attributes_seen.npy')\t# (40, 85): 40x85 matrix with each row being the 85-dimensional class attribute vector of a seen class.\n",
    "\n",
    "class_attributes_unseen=np.load('class_attributes_unseen.npy')\t# (10, 85): 10x85 matrix with each row being the 85-dimensional class attribute vector of an  unseen class."
   ]
  },
  {
   "cell_type": "markdown",
   "metadata": {},
   "source": [
    "### Assuming we have a list class_labels that contains class labels for each training input point, where class_labels[i, j] represents the class label for the jth training input point in class i.\n"
   ]
  },
  {
   "cell_type": "code",
   "execution_count": 3,
   "metadata": {},
   "outputs": [],
   "source": [
    "# Calculate the sum of the feature vectors for each class after iterating over the training data.\n",
    "# Calculate Mean of each class\n",
    "X_class_mean = []\n",
    "\n",
    "for i in range(40):\n",
    "    class_mean = np.mean(X_seen[i], axis=0)\n",
    "    X_class_mean.append(class_mean)"
   ]
  },
  {
   "cell_type": "markdown",
   "metadata": {},
   "source": [
    "Calculating the weight matrix $ W = \\left(A_s^T A_s + \\lambda I\\right)^{-1} A_s^T M_s $"
   ]
  },
  {
   "cell_type": "code",
   "execution_count": 4,
   "metadata": {},
   "outputs": [],
   "source": [
    "\n",
    "# Calculating the weight matrix(W) is 85 × 4096 matrix of weights\n",
    "lambda_ = 10\n",
    "A_transpose_A = np.dot(class_attributes_seen.T, class_attributes_seen)\n",
    "I = np.identity(class_attributes_seen.shape[1])\n",
    "lambda_identity_matrix = lambda_ * I\n",
    "temp = A_transpose_A + lambda_identity_matrix\n",
    "inv_temp_matrix = np.linalg.inv(temp)\n",
    "temp_2 = np.dot(inv_temp_matrix, class_attributes_seen.T)\n",
    "weight_matrix = np.dot(temp_2, X_class_mean)\n"
   ]
  },
  {
   "cell_type": "markdown",
   "metadata": {},
   "source": [
    "## Calculating the the vectorvalued regression output of unseen classes $\\mu_c = Wa$"
   ]
  },
  {
   "cell_type": "code",
   "execution_count": 5,
   "metadata": {},
   "outputs": [],
   "source": [
    "# Calculating the vectorvalued regression output\n",
    "unseen_class_prototypes = np.zeros((10,4096))\n",
    "\n",
    "for i in range(10):\n",
    "    unseen_class_prototypes[i] = (np.dot(weight_matrix.T, class_attributes_unseen[i])).T"
   ]
  },
  {
   "cell_type": "code",
   "execution_count": 6,
   "metadata": {},
   "outputs": [],
   "source": [
    "# Predicting labels\n",
    "predicted_labels = []\n",
    "for i in range(len(Xtest)):\n",
    "    distances = []\n",
    "    for j in range(10):\n",
    "        distance = np.linalg.norm(Xtest[i]-unseen_class_prototypes[j])\n",
    "        distances.append(distance)\n",
    "    predict_value=np.argmin(distances)+1\n",
    "    predicted_labels.append(predict_value)"
   ]
  },
  {
   "cell_type": "code",
   "execution_count": 7,
   "metadata": {},
   "outputs": [
    {
     "name": "stdout",
     "output_type": "stream",
     "text": [
      "Accuracy : 73.28478964401295\n"
     ]
    }
   ],
   "source": [
    "# Predicting Accuracy\n",
    "correct_prediction = 0\n",
    "total_prediction = len(Ytest)\n",
    "for i in range(total_prediction):\n",
    "    if(predicted_labels[i]==Ytest[i]):\n",
    "        correct_prediction+=1\n",
    "\n",
    "accuracy = correct_prediction/total_prediction*100\n",
    "print(\"Accuracy : {}\".format(accuracy))"
   ]
  },
  {
   "cell_type": "markdown",
   "metadata": {},
   "source": [
    "## Now we will run for different lamdas = [0.01, 0.1, 1, 10, 20, 50, 100]"
   ]
  },
  {
   "cell_type": "code",
   "execution_count": 8,
   "metadata": {},
   "outputs": [
    {
     "name": "stdout",
     "output_type": "stream",
     "text": [
      "Accuracy with 0.01: 58.090614886731395\n",
      "Accuracy with 0.1: 59.54692556634305\n",
      "Accuracy with 1: 67.39482200647248\n",
      "Accuracy with 10: 73.28478964401295\n",
      "Accuracy with 20: 71.68284789644012\n",
      "Accuracy with 50: 65.08090614886731\n",
      "Accuracy with 100: 56.47249190938511\n"
     ]
    }
   ],
   "source": [
    "# Running for different lambda\n",
    "lambdas = [0.01, 0.1, 1, 10, 20, 50, 100]\n",
    "for lambda_ in lambdas:\n",
    "    A_transpose_A = np.dot(class_attributes_seen.T, class_attributes_seen)\n",
    "    I = np.identity(class_attributes_seen.shape[1])\n",
    "    lambda_identity_matrix = lambda_ * I\n",
    "    temp = A_transpose_A + lambda_identity_matrix\n",
    "    inv_temp_matrix = np.linalg.inv(temp)\n",
    "    temp_2 = np.dot(inv_temp_matrix, class_attributes_seen.T)\n",
    "    weight_matrix = np.dot(temp_2, X_class_mean)\n",
    "\n",
    "    # Calculating the vectorvalued regression output\n",
    "    unseen_class_prototypes = np.zeros((10,4096))\n",
    "\n",
    "    for i in range(10):\n",
    "        unseen_class_prototypes[i] = (np.dot(weight_matrix.T, class_attributes_unseen[i])).T\n",
    "    predicted_labels = []\n",
    "    for i in range(len(Xtest)):\n",
    "        distances = []\n",
    "        for j in range(10):\n",
    "            distance = np.linalg.norm(Xtest[i]-unseen_class_prototypes[j])\n",
    "            distances.append(distance)\n",
    "        predict_value=np.argmin(distances)+1\n",
    "        predicted_labels.append(predict_value)\n",
    "    \n",
    "    # Predicting Accuracy\n",
    "    correct_prediction = 0\n",
    "    total_prediction = len(Ytest)\n",
    "    for i in range(total_prediction):\n",
    "        if(predicted_labels[i]==Ytest[i]):\n",
    "            correct_prediction+=1\n",
    "\n",
    "    accuracy = correct_prediction/total_prediction*100\n",
    "    print(\"Accuracy with {}: {}\".format(lambda_,accuracy))\n",
    "    \n",
    "    "
   ]
  },
  {
   "cell_type": "code",
   "execution_count": null,
   "metadata": {},
   "outputs": [],
   "source": []
  }
 ],
 "metadata": {
  "kernelspec": {
   "display_name": "Python 3 (ipykernel)",
   "language": "python",
   "name": "python3"
  },
  "language_info": {
   "codemirror_mode": {
    "name": "ipython",
    "version": 3
   },
   "file_extension": ".py",
   "mimetype": "text/x-python",
   "name": "python",
   "nbconvert_exporter": "python",
   "pygments_lexer": "ipython3",
   "version": "3.11.7"
  },
  "vscode": {
   "interpreter": {
    "hash": "e956c49ae0caa224b5fdd754cbc353d7e61c6c61f7329ee680c7f7b4f1b71a8e"
   }
  }
 },
 "nbformat": 4,
 "nbformat_minor": 4
}
